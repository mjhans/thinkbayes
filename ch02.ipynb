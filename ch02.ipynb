{
 "cells": [
  {
   "cell_type": "code",
   "execution_count": 1,
   "metadata": {
    "collapsed": true
   },
   "outputs": [],
   "source": [
    "from thinkbayes2 import Pmf, Suite"
   ]
  },
  {
   "cell_type": "code",
   "execution_count": 2,
   "metadata": {},
   "outputs": [],
   "source": [
    "pmf = Pmf()\n",
    "for x in [1,2,3,4,5,6]:\n",
    "    pmf.Set(x, 1/6.0)"
   ]
  },
  {
   "cell_type": "code",
   "execution_count": 3,
   "metadata": {},
   "outputs": [
    {
     "name": "stdout",
     "output_type": "stream",
     "text": [
      "Pmf({'Bowl 1': 0.375, 'Bowl 2': 0.25})\nPmf({'Bowl 1': 0.6000000000000001, 'Bowl 2': 0.4})\n0.6000000000000001\n"
     ]
    }
   ],
   "source": [
    "# 쿠키 문제에서 Pmf를 쓰는 이유는 무엇인가?\n",
    "\n",
    "pmf = Pmf()\n",
    "# 사전 확률\n",
    "# 바닐라 쿠키가 그릇 1과 2에 있을 확률\n",
    "pmf.Set('Bowl 1', 0.5)\n",
    "pmf.Set('Bowl 2', 0.5)\n",
    "\n",
    "# 우도\n",
    "# 그릇 1에서 바닐라 쿠키를 집을 확률 3/4\n",
    "pmf.Mult('Bowl 1', 0.75)\n",
    "# 그릇 2에서 바닐라 쿠키를 집을 확률 1/2\n",
    "pmf.Mult('Bowl 2', 0.5)\n",
    "print(pmf)\n",
    "# 상호 배반적이기 때문에 정규화가 가능한데...\n",
    "# 서로 어떤 간섭도 없는 확률이어야만 정규화가 가능한건가??\n",
    "pmf.Normalize()\n",
    "print(pmf)\n",
    "\n",
    "print(pmf.Prob('Bowl 1'))"
   ]
  },
  {
   "cell_type": "code",
   "execution_count": 4,
   "metadata": {},
   "outputs": [],
   "source": [
    "class Cookie(Pmf):\n",
    "    def __init__(self, hypos):\n",
    "        Pmf.__init__(self)\n",
    "        \n",
    "        for hypo in hypos:\n",
    "            self.Set(hypo, 1)\n",
    "\n",
    "        self.Normalize()\n",
    "        self.mixes = {\n",
    "            'Bowl 1': dict(vanilla=0.75, chocolate=0.25),\n",
    "            'Bowl 2': dict(vanilla=0.5, chocolate=0.5)\n",
    "        }\n",
    "    \n",
    "    def Liklihood(self, data, hypo):\n",
    "        mix = self.mixes[hypo]\n",
    "        like = mix[data]\n",
    "        return like\n",
    "    \n",
    "    def Update(self, data):\n",
    "        for hypo in self.Values():\n",
    "            like = self.Liklihood(data, hypo)\n",
    "            self.Mult(hypo, like)\n",
    "        self.Normalize()"
   ]
  },
  {
   "cell_type": "code",
   "execution_count": 15,
   "metadata": {},
   "outputs": [
    {
     "name": "stdout",
     "output_type": "stream",
     "text": [
      "Bowl 1 0.6000000000000001\nBowl 2 0.4\nBowl 1 0.4\nBowl 2 0.4\n"
     ]
    }
   ],
   "source": [
    "hypos = [\"Bowl 1\", \"Bowl 2\"]\n",
    "pmf = Cookie(hypos)\n",
    "pmf.Update('vanilla')\n",
    "\n",
    "for hypo, prob in pmf.Items():\n",
    "    print(hypo, prob)\n",
    "\n",
    "pmf = Cookie(hypos)\n",
    "dataset = [\"vanilla\", \"chocolate\", \"vanilla\"]\n",
    "for data in dataset:\n",
    "    pmf.Update(data)\n",
    "\n",
    "for hypo, porb in pmf.Items():\n",
    "    print(hypo, prob)"
   ]
  },
  {
   "cell_type": "code",
   "execution_count": 5,
   "metadata": {},
   "outputs": [],
   "source": [
    "class Monty(Suite):\n",
    "    def Likelihood(self, data, hypo):\n",
    "        if hypo == data:\n",
    "            return 0\n",
    "        elif hypo == 'A':\n",
    "            return 0.5\n",
    "        else:\n",
    "            return 1"
   ]
  },
  {
   "cell_type": "code",
   "execution_count": 6,
   "metadata": {},
   "outputs": [
    {
     "name": "stdout",
     "output_type": "stream",
     "text": [
      "A 0.3333333333333333\nB 0.0\nC 0.6666666666666666\n"
     ]
    }
   ],
   "source": [
    "suite = Monty('ABC')\n",
    "suite.Update('B')\n",
    "suite.Print()"
   ]
  },
  {
   "cell_type": "code",
   "execution_count": 11,
   "metadata": {},
   "outputs": [],
   "source": [
    "mix94 = dict(brown=30, yellow=20, red=20, green=10, orange=10, tan=10)\n",
    "mix96 = dict(blue=24, green=20, orange=16, yellow=14, red=13, brown=13)\n",
    "\n",
    "hypoA = dict(bag1=mix94, bag2=mix96)\n",
    "hypoB = dict(bag1=mix96, bag2=mix94)\n",
    "\n",
    "class MandM(Suite):\n",
    "    def __init__(self, data):\n",
    "        Suite.__init__(self, data)\n",
    "        self.hypotheses = dict(A=hypoA, B=hypoB)\n",
    "        \n",
    "    def Likelihood(self, data, hypo):\n",
    "        bag, color = data\n",
    "        mix = self.hypotheses[hypo][bag]\n",
    "        like = mix[color]\n",
    "        return like\n"
   ]
  },
  {
   "cell_type": "code",
   "execution_count": 12,
   "metadata": {},
   "outputs": [
    {
     "name": "stdout",
     "output_type": "stream",
     "text": [
      "A 0.7407407407407407\nB 0.2592592592592592\n"
     ]
    }
   ],
   "source": [
    "suite = MandM('AB')\n",
    "suite.Update(('bag1', 'yellow'))\n",
    "suite.Update(('bag2', 'green'))\n",
    "suite.Print()"
   ]
  },
  {
   "cell_type": "markdown",
   "metadata": {},
   "source": [
    "##연습문제 2-1\n",
    "- 쿠키를 집어서 먹는다 -> 그릇의 쿠키가 줄어든다\n",
    "- Bowl 1에서 바닐라 쿠키가 나왔을 확률을 구한다고 하면, 관측치를 보고 우도를 다시 계산해야 한다.\n"
   ]
  },
  {
   "cell_type": "code",
   "execution_count": null,
   "metadata": {},
   "outputs": [],
   "source": [
    "init_var1 = {\n",
    "    \"vanilla\": 30,\n",
    "    \"chocolate\": 10\n",
    "}\n",
    "\n",
    "init_var2 = {\n",
    "    \"vanilla\": 20,\n",
    "    \"chocolate\": 20\n",
    "}\n",
    "\n",
    "class Bowl(object):\n",
    "    def __init__(self, name, init_var):\n",
    "        self.var = init_var\n",
    "\n",
    "    def eat_cookie(self, cookie):\n",
    "        self.var[cookie] -= 1\n",
    "        \n",
    "\n",
    "    \n",
    "class Cookie2_1(Suite):\n",
    "    def __init__(self, data):\n",
    "        Suite.__init__(self, data)\n",
    "        for hypo in hypos:\n",
    "            self.Set(hypo, 1)\n",
    "\n",
    "        self.Normalize()\n",
    "        self.mixes = {\n",
    "            'Bowl 1': dict(vanilla=0.75, chocolate=0.25),\n",
    "            'Bowl 2': dict(vanilla=0.5, chocolate=0.5)\n",
    "        }\n",
    "    \n",
    "    def Liklihood(self, data, hypo):\n",
    "        \n",
    "        \n",
    "        "
   ]
  },
  {
   "cell_type": "code",
   "execution_count": null,
   "metadata": {},
   "outputs": [],
   "source": [
    "# 바닐라, 초코, 바닐라 가 나왔다"
   ]
  },
  {
   "cell_type": "code",
   "execution_count": null,
   "metadata": {},
   "outputs": [],
   "source": []
  }
 ],
 "metadata": {
  "kernelspec": {
   "display_name": "Python 2",
   "language": "python",
   "name": "python2"
  },
  "language_info": {
   "codemirror_mode": {
    "name": "ipython",
    "version": 2
   },
   "file_extension": ".py",
   "mimetype": "text/x-python",
   "name": "python",
   "nbconvert_exporter": "python",
   "pygments_lexer": "ipython2",
   "version": "2.7.6"
  }
 },
 "nbformat": 4,
 "nbformat_minor": 0
}
